{
 "cells": [
  {
   "cell_type": "markdown",
   "id": "402de58b-d60a-40cd-9c8b-92a3f28a2129",
   "metadata": {},
   "source": [
    "# Data Science Tools and Ecosystem"
   ]
  },
  {
   "cell_type": "markdown",
   "id": "8ed566ca-879a-4c78-8a12-702aaf4b4982",
   "metadata": {},
   "source": [
    "In this notebook, Data Science Tools and Ecosystem are summarized."
   ]
  },
  {
   "cell_type": "markdown",
   "id": "613f0d30-b6c4-45e0-abb3-cc18c8aa93fd",
   "metadata": {},
   "source": [
    "**Objectives:**\n",
    "* List popular languages for Data Science\n",
    "* Learn to use Jupyter Notebooks\n",
    "* Write Markdown"
   ]
  },
  {
   "cell_type": "markdown",
   "id": "4a84bfc5-f27e-4c4e-86c2-aa24101339b8",
   "metadata": {},
   "source": [
    "## Author\n",
    "Andres Felipe Romero Grajales"
   ]
  },
  {
   "cell_type": "markdown",
   "id": "61172fa7-dbc0-4447-acd4-9d40e9018a92",
   "metadata": {},
   "source": [
    "Some of the popular languages that Data Scientists use are:\n",
    "1. Python\n",
    "2. R\n",
    "3. SQL\n",
    "4. Julia"
   ]
  },
  {
   "cell_type": "markdown",
   "id": "b93560eb-ab34-4b73-bbe8-537025139c6c",
   "metadata": {},
   "source": [
    "Some of the commonly used libraries used by Data Scientists include:\n",
    "1. Keras\n",
    "2. TensorFlow\n",
    "3. Pytorch\n",
    "5. Numpy\n",
    "6. Pandas\n",
    "7. Scikit-learn"
   ]
  },
  {
   "cell_type": "markdown",
   "id": "095b7ff6-d99c-48a2-8068-7ca51926445c",
   "metadata": {},
   "source": [
    "| Data Science Tools            |\n",
    "|-------------------------------|\n",
    "| Jupyter Notebook              |\n",
    "| RStudio                       |\n",
    "| Apache Zeppelin               |\n"
   ]
  },
  {
   "cell_type": "markdown",
   "id": "61561cb4-f81e-43ac-bb39-13e626e127ff",
   "metadata": {},
   "source": [
    "### Below are a few examples of evaluating arithmetic expressions in Python\n",
    "\n",
    "1. 2 * 5 = 10\n",
    "2. 3 / 2 = 1.5\n",
    "3. 2 + 9 = \n",
    "4. 7 - 3 = 4"
   ]
  },
  {
   "cell_type": "code",
   "execution_count": 3,
   "id": "54b3ee30-42e3-45f2-8a88-c37c9af686ea",
   "metadata": {},
   "outputs": [
    {
     "data": {
      "text/plain": [
       "17"
      ]
     },
     "execution_count": 3,
     "metadata": {},
     "output_type": "execute_result"
    }
   ],
   "source": [
    "# This a simple arithmetic expression to mutiply then add integers\n",
    "(3*4)+5"
   ]
  },
  {
   "cell_type": "code",
   "execution_count": 5,
   "id": "00cd1ea9-57c3-4182-ab94-7e7ad575561e",
   "metadata": {},
   "outputs": [
    {
     "name": "stdout",
     "output_type": "stream",
     "text": [
      "3.3333333333333335\n"
     ]
    }
   ],
   "source": [
    "# This will convert 200 minutes to hours by diving by 60\n",
    "minutes = 200\n",
    "hours = minutes / 60\n",
    "print(hours)"
   ]
  },
  {
   "cell_type": "code",
   "execution_count": null,
   "id": "10ea9c19-ff8f-4bed-b472-983828214aae",
   "metadata": {},
   "outputs": [],
   "source": []
  }
 ],
 "metadata": {
  "kernelspec": {
   "display_name": "Python 3 (ipykernel)",
   "language": "python",
   "name": "python3"
  },
  "language_info": {
   "codemirror_mode": {
    "name": "ipython",
    "version": 3
   },
   "file_extension": ".py",
   "mimetype": "text/x-python",
   "name": "python",
   "nbconvert_exporter": "python",
   "pygments_lexer": "ipython3",
   "version": "3.10.12"
  }
 },
 "nbformat": 4,
 "nbformat_minor": 5
}
